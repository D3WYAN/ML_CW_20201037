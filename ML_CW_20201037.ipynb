{
  "nbformat": 4,
  "nbformat_minor": 0,
  "metadata": {
    "colab": {
      "provenance": [],
      "authorship_tag": "ABX9TyNMXtmUTTjKKT+tzY6Zet3x",
      "include_colab_link": true
    },
    "kernelspec": {
      "name": "python3",
      "display_name": "Python 3"
    },
    "language_info": {
      "name": "python"
    }
  },
  "cells": [
    {
      "cell_type": "markdown",
      "metadata": {
        "id": "view-in-github",
        "colab_type": "text"
      },
      "source": [
        "<a href=\"https://colab.research.google.com/github/D3WYAN/ML_CW_20201037/blob/main/ML_CW_20201037.ipynb\" target=\"_parent\"><img src=\"https://colab.research.google.com/assets/colab-badge.svg\" alt=\"Open In Colab\"/></a>"
      ]
    },
    {
      "cell_type": "code",
      "execution_count": 88,
      "metadata": {
        "id": "8UuA5DkdYcPv"
      },
      "outputs": [],
      "source": [
        "import pandas as pd\n",
        "\n",
        "# Load the CSV file into a pandas DataFrame\n",
        "data = pd.read_csv(\"/content/spambase.data.csv\", header=None)\n"
      ]
    },
    {
      "cell_type": "code",
      "source": [
        "def get_column_names(filename):\n",
        "    with open(filename, 'r') as file:\n",
        "        lines = file.readlines()\n",
        "\n",
        "    column_names = []\n",
        "    for line in lines:\n",
        "        if line.startswith('word_freq_') or line.startswith('char_freq_') or line.startswith('capital_'):\n",
        "            column_names.append(line.split(':')[0])\n",
        "\n",
        "    column_names.append('spam')\n",
        "\n",
        "    return column_names"
      ],
      "metadata": {
        "id": "T1h5DbRA6Vqx"
      },
      "execution_count": 89,
      "outputs": []
    },
    {
      "cell_type": "code",
      "source": [
        "# Assign column names to the DataFrame\n",
        "column_names = get_column_names('/content/spambase.names')\n",
        "data.columns = column_names\n",
        "#print(column_names)"
      ],
      "metadata": {
        "id": "YPWlmN5t6YAY"
      },
      "execution_count": 90,
      "outputs": []
    },
    {
      "cell_type": "code",
      "source": [
        "print(data.isnull().sum(),\"\\n==================\")\n",
        "data = data.dropna()\n",
        "print(data.duplicated().sum())\n",
        "data = data.drop_duplicates()"
      ],
      "metadata": {
        "colab": {
          "base_uri": "https://localhost:8080/"
        },
        "id": "ySDx7gvDYh94",
        "outputId": "b2fa1614-d798-4c19-9ddd-b6698d7d4fae"
      },
      "execution_count": 91,
      "outputs": [
        {
          "output_type": "stream",
          "name": "stdout",
          "text": [
            "word_freq_make                0\n",
            "word_freq_address             0\n",
            "word_freq_all                 0\n",
            "word_freq_3d                  0\n",
            "word_freq_our                 0\n",
            "word_freq_over                0\n",
            "word_freq_remove              0\n",
            "word_freq_internet            0\n",
            "word_freq_order               0\n",
            "word_freq_mail                0\n",
            "word_freq_receive             0\n",
            "word_freq_will                0\n",
            "word_freq_people              0\n",
            "word_freq_report              0\n",
            "word_freq_addresses           0\n",
            "word_freq_free                0\n",
            "word_freq_business            0\n",
            "word_freq_email               0\n",
            "word_freq_you                 0\n",
            "word_freq_credit              0\n",
            "word_freq_your                0\n",
            "word_freq_font                0\n",
            "word_freq_000                 0\n",
            "word_freq_money               0\n",
            "word_freq_hp                  0\n",
            "word_freq_hpl                 0\n",
            "word_freq_george              0\n",
            "word_freq_650                 0\n",
            "word_freq_lab                 0\n",
            "word_freq_labs                0\n",
            "word_freq_telnet              0\n",
            "word_freq_857                 0\n",
            "word_freq_data                0\n",
            "word_freq_415                 0\n",
            "word_freq_85                  0\n",
            "word_freq_technology          0\n",
            "word_freq_1999                0\n",
            "word_freq_parts               0\n",
            "word_freq_pm                  0\n",
            "word_freq_direct              0\n",
            "word_freq_cs                  0\n",
            "word_freq_meeting             0\n",
            "word_freq_original            0\n",
            "word_freq_project             0\n",
            "word_freq_re                  0\n",
            "word_freq_edu                 0\n",
            "word_freq_table               0\n",
            "word_freq_conference          0\n",
            "char_freq_;                   0\n",
            "char_freq_(                   0\n",
            "char_freq_[                   0\n",
            "char_freq_!                   0\n",
            "char_freq_$                   0\n",
            "char_freq_#                   0\n",
            "capital_run_length_average    0\n",
            "capital_run_length_longest    0\n",
            "capital_run_length_total      0\n",
            "spam                          0\n",
            "dtype: int64 \n",
            "==================\n",
            "391\n"
          ]
        }
      ]
    },
    {
      "cell_type": "code",
      "source": [
        "# Print basic statistics about the DataFrame\n",
        "print(data.describe())\n"
      ],
      "metadata": {
        "colab": {
          "base_uri": "https://localhost:8080/"
        },
        "id": "Kmv5jZolY-MB",
        "outputId": "57a02b97-3f8b-411e-ba4d-a1f518bd400f"
      },
      "execution_count": 92,
      "outputs": [
        {
          "output_type": "stream",
          "name": "stdout",
          "text": [
            "       word_freq_make  word_freq_address  word_freq_all  word_freq_3d  \\\n",
            "count     4210.000000        4210.000000    4210.000000   4210.000000   \n",
            "mean         0.104366           0.112656       0.291473      0.063078   \n",
            "std          0.300005           0.454260       0.515719      1.352487   \n",
            "min          0.000000           0.000000       0.000000      0.000000   \n",
            "25%          0.000000           0.000000       0.000000      0.000000   \n",
            "50%          0.000000           0.000000       0.000000      0.000000   \n",
            "75%          0.000000           0.000000       0.440000      0.000000   \n",
            "max          4.540000          14.280000       5.100000     42.810000   \n",
            "\n",
            "       word_freq_our  word_freq_over  word_freq_remove  word_freq_internet  \\\n",
            "count    4210.000000     4210.000000       4210.000000         4210.000000   \n",
            "mean        0.325321        0.096656          0.117475            0.108000   \n",
            "std         0.687805        0.276030          0.397284            0.410282   \n",
            "min         0.000000        0.000000          0.000000            0.000000   \n",
            "25%         0.000000        0.000000          0.000000            0.000000   \n",
            "50%         0.000000        0.000000          0.000000            0.000000   \n",
            "75%         0.410000        0.000000          0.000000            0.000000   \n",
            "max        10.000000        5.880000          7.270000           11.110000   \n",
            "\n",
            "       word_freq_order  word_freq_mail  ...  char_freq_;  char_freq_(  \\\n",
            "count      4210.000000     4210.000000  ...  4210.000000  4210.000000   \n",
            "mean          0.091860        0.248420  ...     0.040403     0.144048   \n",
            "std           0.282144        0.656638  ...     0.252533     0.274256   \n",
            "min           0.000000        0.000000  ...     0.000000     0.000000   \n",
            "25%           0.000000        0.000000  ...     0.000000     0.000000   \n",
            "50%           0.000000        0.000000  ...     0.000000     0.073000   \n",
            "75%           0.000000        0.190000  ...     0.000000     0.194000   \n",
            "max           5.260000       18.180000  ...     4.385000     9.752000   \n",
            "\n",
            "       char_freq_[  char_freq_!  char_freq_$  char_freq_#  \\\n",
            "count  4210.000000  4210.000000  4210.000000  4210.000000   \n",
            "mean      0.017376     0.281136     0.076057     0.045798   \n",
            "std       0.105731     0.843321     0.239708     0.435925   \n",
            "min       0.000000     0.000000     0.000000     0.000000   \n",
            "25%       0.000000     0.000000     0.000000     0.000000   \n",
            "50%       0.000000     0.016000     0.000000     0.000000   \n",
            "75%       0.000000     0.331000     0.053000     0.000000   \n",
            "max       4.081000    32.478000     6.003000    19.829000   \n",
            "\n",
            "       capital_run_length_average  capital_run_length_longest  \\\n",
            "count                 4210.000000                 4210.000000   \n",
            "mean                     5.383896                   52.139905   \n",
            "std                     33.147358                  199.582168   \n",
            "min                      1.000000                    1.000000   \n",
            "25%                      1.627500                    7.000000   \n",
            "50%                      2.297000                   15.000000   \n",
            "75%                      3.706750                   44.000000   \n",
            "max                   1102.500000                 9989.000000   \n",
            "\n",
            "       capital_run_length_total         spam  \n",
            "count               4210.000000  4210.000000  \n",
            "mean                 291.181948     0.398812  \n",
            "std                  618.654838     0.489712  \n",
            "min                    1.000000     0.000000  \n",
            "25%                   40.000000     0.000000  \n",
            "50%                  101.500000     0.000000  \n",
            "75%                  273.750000     1.000000  \n",
            "max                15841.000000     1.000000  \n",
            "\n",
            "[8 rows x 58 columns]\n"
          ]
        }
      ]
    },
    {
      "cell_type": "code",
      "source": [
        "#separates the target variable 'spam' from the rest of the features in the dataset.\n",
        "X = data.drop('spam', axis=1)\n",
        "y = data['spam']\n"
      ],
      "metadata": {
        "id": "2-5kAHFOZBD3"
      },
      "execution_count": 93,
      "outputs": []
    },
    {
      "cell_type": "code",
      "source": [
        "from sklearn.decomposition import PCA\n",
        "from sklearn.preprocessing import StandardScaler\n",
        "\n",
        "# Scale the data before performing PCA\n",
        "scaler = StandardScaler()\n",
        "X_scaled = scaler.fit_transform(X)\n",
        "\n",
        "# Apply PCA\n",
        "pca = PCA(n_components=2)\n",
        "X_pca = pca.fit_transform(X_scaled)"
      ],
      "metadata": {
        "id": "NoQQ9Br8DOdi"
      },
      "execution_count": 94,
      "outputs": []
    },
    {
      "cell_type": "code",
      "source": [
        "from sklearn.model_selection import train_test_split\n",
        "\n",
        "#Splitting the data into training and testing sets and setting a random seed for reproducibility\n",
        "#X_train, X_test, y_train, y_test = train_test_split(X, y, test_size=0.3, random_state=42)\n",
        "\n",
        "X_train, X_test, y_train, y_test = train_test_split(data.iloc[:, :-1], data.iloc[:, -1], test_size=0.3, random_state=42)\n",
        "X_val, X_test, y_val, y_test = train_test_split(X_test, y_test, test_size=0.5, random_state=42)\n"
      ],
      "metadata": {
        "id": "pYqwGX5zZEac"
      },
      "execution_count": 95,
      "outputs": []
    },
    {
      "cell_type": "code",
      "source": [
        "from sklearn.neighbors import KNeighborsClassifier\n",
        "\n",
        "#Creating a K-nearest neighbors classifier object with 3 neighbors\n",
        "knn = KNeighborsClassifier(n_neighbors=3)\n",
        "\n",
        "#Fitting the classifier to the training data to learn from the data\n",
        "knn.fit(X_train, y_train)\n"
      ],
      "metadata": {
        "colab": {
          "base_uri": "https://localhost:8080/",
          "height": 74
        },
        "id": "JO9rNCV4bU6j",
        "outputId": "a68b2683-3742-4669-89db-b093bf3feb5f"
      },
      "execution_count": 96,
      "outputs": [
        {
          "output_type": "execute_result",
          "data": {
            "text/plain": [
              "KNeighborsClassifier(n_neighbors=3)"
            ],
            "text/html": [
              "<style>#sk-container-id-7 {color: black;background-color: white;}#sk-container-id-7 pre{padding: 0;}#sk-container-id-7 div.sk-toggleable {background-color: white;}#sk-container-id-7 label.sk-toggleable__label {cursor: pointer;display: block;width: 100%;margin-bottom: 0;padding: 0.3em;box-sizing: border-box;text-align: center;}#sk-container-id-7 label.sk-toggleable__label-arrow:before {content: \"▸\";float: left;margin-right: 0.25em;color: #696969;}#sk-container-id-7 label.sk-toggleable__label-arrow:hover:before {color: black;}#sk-container-id-7 div.sk-estimator:hover label.sk-toggleable__label-arrow:before {color: black;}#sk-container-id-7 div.sk-toggleable__content {max-height: 0;max-width: 0;overflow: hidden;text-align: left;background-color: #f0f8ff;}#sk-container-id-7 div.sk-toggleable__content pre {margin: 0.2em;color: black;border-radius: 0.25em;background-color: #f0f8ff;}#sk-container-id-7 input.sk-toggleable__control:checked~div.sk-toggleable__content {max-height: 200px;max-width: 100%;overflow: auto;}#sk-container-id-7 input.sk-toggleable__control:checked~label.sk-toggleable__label-arrow:before {content: \"▾\";}#sk-container-id-7 div.sk-estimator input.sk-toggleable__control:checked~label.sk-toggleable__label {background-color: #d4ebff;}#sk-container-id-7 div.sk-label input.sk-toggleable__control:checked~label.sk-toggleable__label {background-color: #d4ebff;}#sk-container-id-7 input.sk-hidden--visually {border: 0;clip: rect(1px 1px 1px 1px);clip: rect(1px, 1px, 1px, 1px);height: 1px;margin: -1px;overflow: hidden;padding: 0;position: absolute;width: 1px;}#sk-container-id-7 div.sk-estimator {font-family: monospace;background-color: #f0f8ff;border: 1px dotted black;border-radius: 0.25em;box-sizing: border-box;margin-bottom: 0.5em;}#sk-container-id-7 div.sk-estimator:hover {background-color: #d4ebff;}#sk-container-id-7 div.sk-parallel-item::after {content: \"\";width: 100%;border-bottom: 1px solid gray;flex-grow: 1;}#sk-container-id-7 div.sk-label:hover label.sk-toggleable__label {background-color: #d4ebff;}#sk-container-id-7 div.sk-serial::before {content: \"\";position: absolute;border-left: 1px solid gray;box-sizing: border-box;top: 0;bottom: 0;left: 50%;z-index: 0;}#sk-container-id-7 div.sk-serial {display: flex;flex-direction: column;align-items: center;background-color: white;padding-right: 0.2em;padding-left: 0.2em;position: relative;}#sk-container-id-7 div.sk-item {position: relative;z-index: 1;}#sk-container-id-7 div.sk-parallel {display: flex;align-items: stretch;justify-content: center;background-color: white;position: relative;}#sk-container-id-7 div.sk-item::before, #sk-container-id-7 div.sk-parallel-item::before {content: \"\";position: absolute;border-left: 1px solid gray;box-sizing: border-box;top: 0;bottom: 0;left: 50%;z-index: -1;}#sk-container-id-7 div.sk-parallel-item {display: flex;flex-direction: column;z-index: 1;position: relative;background-color: white;}#sk-container-id-7 div.sk-parallel-item:first-child::after {align-self: flex-end;width: 50%;}#sk-container-id-7 div.sk-parallel-item:last-child::after {align-self: flex-start;width: 50%;}#sk-container-id-7 div.sk-parallel-item:only-child::after {width: 0;}#sk-container-id-7 div.sk-dashed-wrapped {border: 1px dashed gray;margin: 0 0.4em 0.5em 0.4em;box-sizing: border-box;padding-bottom: 0.4em;background-color: white;}#sk-container-id-7 div.sk-label label {font-family: monospace;font-weight: bold;display: inline-block;line-height: 1.2em;}#sk-container-id-7 div.sk-label-container {text-align: center;}#sk-container-id-7 div.sk-container {/* jupyter's `normalize.less` sets `[hidden] { display: none; }` but bootstrap.min.css set `[hidden] { display: none !important; }` so we also need the `!important` here to be able to override the default hidden behavior on the sphinx rendered scikit-learn.org. See: https://github.com/scikit-learn/scikit-learn/issues/21755 */display: inline-block !important;position: relative;}#sk-container-id-7 div.sk-text-repr-fallback {display: none;}</style><div id=\"sk-container-id-7\" class=\"sk-top-container\"><div class=\"sk-text-repr-fallback\"><pre>KNeighborsClassifier(n_neighbors=3)</pre><b>In a Jupyter environment, please rerun this cell to show the HTML representation or trust the notebook. <br />On GitHub, the HTML representation is unable to render, please try loading this page with nbviewer.org.</b></div><div class=\"sk-container\" hidden><div class=\"sk-item\"><div class=\"sk-estimator sk-toggleable\"><input class=\"sk-toggleable__control sk-hidden--visually\" id=\"sk-estimator-id-7\" type=\"checkbox\" checked><label for=\"sk-estimator-id-7\" class=\"sk-toggleable__label sk-toggleable__label-arrow\">KNeighborsClassifier</label><div class=\"sk-toggleable__content\"><pre>KNeighborsClassifier(n_neighbors=3)</pre></div></div></div></div></div>"
            ]
          },
          "metadata": {},
          "execution_count": 96
        }
      ]
    },
    {
      "cell_type": "code",
      "source": [
        "from sklearn.tree import DecisionTreeClassifier\n",
        "\n",
        "#Creating a decision tree classifier object\n",
        "tree = DecisionTreeClassifier(max_depth=5)\n",
        "\n",
        "#Fitting the classifier to the training data to learn from the data\n",
        "tree.fit(X_train, y_train)\n"
      ],
      "metadata": {
        "colab": {
          "base_uri": "https://localhost:8080/",
          "height": 74
        },
        "id": "WhuDe6adbWR3",
        "outputId": "d9c8eea0-7c81-4381-b5db-baa473b73237"
      },
      "execution_count": 97,
      "outputs": [
        {
          "output_type": "execute_result",
          "data": {
            "text/plain": [
              "DecisionTreeClassifier(max_depth=5)"
            ],
            "text/html": [
              "<style>#sk-container-id-8 {color: black;background-color: white;}#sk-container-id-8 pre{padding: 0;}#sk-container-id-8 div.sk-toggleable {background-color: white;}#sk-container-id-8 label.sk-toggleable__label {cursor: pointer;display: block;width: 100%;margin-bottom: 0;padding: 0.3em;box-sizing: border-box;text-align: center;}#sk-container-id-8 label.sk-toggleable__label-arrow:before {content: \"▸\";float: left;margin-right: 0.25em;color: #696969;}#sk-container-id-8 label.sk-toggleable__label-arrow:hover:before {color: black;}#sk-container-id-8 div.sk-estimator:hover label.sk-toggleable__label-arrow:before {color: black;}#sk-container-id-8 div.sk-toggleable__content {max-height: 0;max-width: 0;overflow: hidden;text-align: left;background-color: #f0f8ff;}#sk-container-id-8 div.sk-toggleable__content pre {margin: 0.2em;color: black;border-radius: 0.25em;background-color: #f0f8ff;}#sk-container-id-8 input.sk-toggleable__control:checked~div.sk-toggleable__content {max-height: 200px;max-width: 100%;overflow: auto;}#sk-container-id-8 input.sk-toggleable__control:checked~label.sk-toggleable__label-arrow:before {content: \"▾\";}#sk-container-id-8 div.sk-estimator input.sk-toggleable__control:checked~label.sk-toggleable__label {background-color: #d4ebff;}#sk-container-id-8 div.sk-label input.sk-toggleable__control:checked~label.sk-toggleable__label {background-color: #d4ebff;}#sk-container-id-8 input.sk-hidden--visually {border: 0;clip: rect(1px 1px 1px 1px);clip: rect(1px, 1px, 1px, 1px);height: 1px;margin: -1px;overflow: hidden;padding: 0;position: absolute;width: 1px;}#sk-container-id-8 div.sk-estimator {font-family: monospace;background-color: #f0f8ff;border: 1px dotted black;border-radius: 0.25em;box-sizing: border-box;margin-bottom: 0.5em;}#sk-container-id-8 div.sk-estimator:hover {background-color: #d4ebff;}#sk-container-id-8 div.sk-parallel-item::after {content: \"\";width: 100%;border-bottom: 1px solid gray;flex-grow: 1;}#sk-container-id-8 div.sk-label:hover label.sk-toggleable__label {background-color: #d4ebff;}#sk-container-id-8 div.sk-serial::before {content: \"\";position: absolute;border-left: 1px solid gray;box-sizing: border-box;top: 0;bottom: 0;left: 50%;z-index: 0;}#sk-container-id-8 div.sk-serial {display: flex;flex-direction: column;align-items: center;background-color: white;padding-right: 0.2em;padding-left: 0.2em;position: relative;}#sk-container-id-8 div.sk-item {position: relative;z-index: 1;}#sk-container-id-8 div.sk-parallel {display: flex;align-items: stretch;justify-content: center;background-color: white;position: relative;}#sk-container-id-8 div.sk-item::before, #sk-container-id-8 div.sk-parallel-item::before {content: \"\";position: absolute;border-left: 1px solid gray;box-sizing: border-box;top: 0;bottom: 0;left: 50%;z-index: -1;}#sk-container-id-8 div.sk-parallel-item {display: flex;flex-direction: column;z-index: 1;position: relative;background-color: white;}#sk-container-id-8 div.sk-parallel-item:first-child::after {align-self: flex-end;width: 50%;}#sk-container-id-8 div.sk-parallel-item:last-child::after {align-self: flex-start;width: 50%;}#sk-container-id-8 div.sk-parallel-item:only-child::after {width: 0;}#sk-container-id-8 div.sk-dashed-wrapped {border: 1px dashed gray;margin: 0 0.4em 0.5em 0.4em;box-sizing: border-box;padding-bottom: 0.4em;background-color: white;}#sk-container-id-8 div.sk-label label {font-family: monospace;font-weight: bold;display: inline-block;line-height: 1.2em;}#sk-container-id-8 div.sk-label-container {text-align: center;}#sk-container-id-8 div.sk-container {/* jupyter's `normalize.less` sets `[hidden] { display: none; }` but bootstrap.min.css set `[hidden] { display: none !important; }` so we also need the `!important` here to be able to override the default hidden behavior on the sphinx rendered scikit-learn.org. See: https://github.com/scikit-learn/scikit-learn/issues/21755 */display: inline-block !important;position: relative;}#sk-container-id-8 div.sk-text-repr-fallback {display: none;}</style><div id=\"sk-container-id-8\" class=\"sk-top-container\"><div class=\"sk-text-repr-fallback\"><pre>DecisionTreeClassifier(max_depth=5)</pre><b>In a Jupyter environment, please rerun this cell to show the HTML representation or trust the notebook. <br />On GitHub, the HTML representation is unable to render, please try loading this page with nbviewer.org.</b></div><div class=\"sk-container\" hidden><div class=\"sk-item\"><div class=\"sk-estimator sk-toggleable\"><input class=\"sk-toggleable__control sk-hidden--visually\" id=\"sk-estimator-id-8\" type=\"checkbox\" checked><label for=\"sk-estimator-id-8\" class=\"sk-toggleable__label sk-toggleable__label-arrow\">DecisionTreeClassifier</label><div class=\"sk-toggleable__content\"><pre>DecisionTreeClassifier(max_depth=5)</pre></div></div></div></div></div>"
            ]
          },
          "metadata": {},
          "execution_count": 97
        }
      ]
    },
    {
      "cell_type": "code",
      "source": [
        "# import the KNeighborsClassifier class from sklearn.neighbors\n",
        "from sklearn.neighbors import KNeighborsClassifier\n",
        "\n",
        "# import accuracy_score, precision_score, recall_score, and f1_score from sklearn.metrics\n",
        "from sklearn.metrics import accuracy_score, precision_score, recall_score, f1_score\n",
        "\n",
        "# create a new KNeighborsClassifier model with 5 neighbors\n",
        "knn_model = KNeighborsClassifier(n_neighbors=5)\n",
        "\n",
        "# train the KNeighborsClassifier model on the training data (X_train) and labels (y_train)\n",
        "knn_model.fit(X_train, y_train)\n",
        "\n",
        "# use the trained model to predict the labels for the test data (X_test)\n",
        "knn_y_pred = knn_model.predict(X_test)\n",
        "\n",
        "# calculate the accuracy, precision, recall, and F1 score of the predictions using the actual test labels (y_test)\n",
        "knn_accuracy = accuracy_score(y_test, knn_y_pred)\n",
        "knn_precision = precision_score(y_test, knn_y_pred)\n",
        "knn_recall = recall_score(y_test, knn_y_pred)\n",
        "knn_f1 = f1_score(y_test, knn_y_pred)\n",
        "\n",
        "# print out the results of the KNN model's metrics\n",
        "print(\"KNN Model Metrics:\")\n",
        "print(\"Accuracy:\", knn_accuracy)\n",
        "print(\"Precision:\", knn_precision)\n",
        "print(\"Recall:\", knn_recall)\n",
        "print(\"F1 Score:\", knn_f1)\n"
      ],
      "metadata": {
        "colab": {
          "base_uri": "https://localhost:8080/"
        },
        "id": "J0oT6gt0bZbW",
        "outputId": "a708aba9-bbea-48fb-b415-e0a229bbe0b2"
      },
      "execution_count": 98,
      "outputs": [
        {
          "output_type": "stream",
          "name": "stdout",
          "text": [
            "KNN Model Metrics:\n",
            "Accuracy: 0.7420886075949367\n",
            "Precision: 0.7112970711297071\n",
            "Recall: 0.6439393939393939\n",
            "F1 Score: 0.6759443339960238\n"
          ]
        }
      ]
    },
    {
      "cell_type": "code",
      "source": [
        "# Import the required libraries\n",
        "from sklearn.tree import DecisionTreeClassifier\n",
        "from sklearn.metrics import accuracy_score, precision_score, recall_score, f1_score\n",
        "\n",
        "# Create a Decision Tree Classifier object\n",
        "dt_classifier = DecisionTreeClassifier(random_state=42)\n",
        "\n",
        "# Train the Decision Tree Classifier on the training data\n",
        "dt_classifier.fit(X_train, y_train)\n",
        "\n",
        "# Use the trained model to make predictions on the test data\n",
        "y_pred = dt_classifier.predict(X_test)\n",
        "\n",
        "# Evaluate the model using various metrics\n",
        "accuracy = accuracy_score(y_test, y_pred) # Calculate the accuracy score\n",
        "precision = precision_score(y_test, y_pred) # Calculate the precision score\n",
        "recall = recall_score(y_test, y_pred) # Calculate the recall score\n",
        "f1 = f1_score(y_test, y_pred) # Calculate the F1 score\n",
        "\n",
        "# Print the evaluation metrics\n",
        "print(\"Decision tree model evaluation:\")\n",
        "print(f\"Accuracy: {accuracy:.3f}\") # Print the accuracy score with 3 decimal places\n",
        "print(f\"Precision: {precision:.3f}\") # Print the precision score with 3 decimal places\n",
        "print(f\"Recall: {recall:.3f}\") # Print the recall score with 3 decimal places\n",
        "print(f\"F1 score: {f1:.3f}\") # Print the F1 score with 3 decimal places\n"
      ],
      "metadata": {
        "colab": {
          "base_uri": "https://localhost:8080/"
        },
        "id": "PXaoNmXcf5-N",
        "outputId": "e227a9c8-e14f-49f2-ffcb-094dd142c032"
      },
      "execution_count": 99,
      "outputs": [
        {
          "output_type": "stream",
          "name": "stdout",
          "text": [
            "Decision tree model evaluation:\n",
            "Accuracy: 0.888\n",
            "Precision: 0.881\n",
            "Recall: 0.845\n",
            "F1 score: 0.863\n"
          ]
        }
      ]
    },
    {
      "cell_type": "code",
      "source": [
        "# Import necessary metrics from scikit-learn\n",
        "from sklearn.metrics import accuracy_score, precision_score, recall_score, f1_score\n",
        "\n",
        "# Use the trained KNN model to predict the class labels of the test data\n",
        "y_pred = knn.predict(X_test)\n",
        "\n",
        "# Calculate the accuracy, precision, recall, and F1 score of the KNN model on the test data\n",
        "acc = accuracy_score(y_test, y_pred)\n",
        "prec = precision_score(y_test, y_pred)\n",
        "rec = recall_score(y_test, y_pred)\n",
        "f1 = f1_score(y_test, y_pred)\n"
      ],
      "metadata": {
        "id": "UG3VLzqGgEtT"
      },
      "execution_count": 100,
      "outputs": []
    },
    {
      "cell_type": "code",
      "source": [
        "# Print out the KNN model's accuracy, precision, recall, and F1 score on the test data\n",
        "print(\"KNN Model Evaluation:\")\n",
        "print(f\"KNN accuracy: {acc:.4f}\")\n",
        "print(f\"KNN precision: {prec:.4f}\")\n",
        "print(f\"KNN recall: {rec:.4f}\")\n",
        "print(f\"KNN F1 score: {f1:.4f}\")"
      ],
      "metadata": {
        "colab": {
          "base_uri": "https://localhost:8080/"
        },
        "id": "Obl9coC5h3W-",
        "outputId": "d0e100b6-8496-4b9d-f807-e691f6b123ee"
      },
      "execution_count": 101,
      "outputs": [
        {
          "output_type": "stream",
          "name": "stdout",
          "text": [
            "KNN Model Evaluation:\n",
            "KNN accuracy: 0.7484\n",
            "KNN precision: 0.7075\n",
            "KNN recall: 0.6780\n",
            "KNN F1 score: 0.6925\n"
          ]
        }
      ]
    },
    {
      "cell_type": "code",
      "source": [
        "# Predict the test labels using the decision tree model\n",
        "y_pred_dt = tree.predict(X_test)\n",
        "\n",
        "# Calculate the evaluation metrics for the decision tree model\n",
        "acc_dt = accuracy_score(y_test, y_pred_dt)\n",
        "prec_dt = precision_score(y_test, y_pred_dt)\n",
        "rec_dt = recall_score(y_test, y_pred_dt)\n",
        "f1_dt = f1_score(y_test, y_pred_dt)"
      ],
      "metadata": {
        "id": "yxsrUndoh-CA"
      },
      "execution_count": 102,
      "outputs": []
    },
    {
      "cell_type": "code",
      "source": [
        "# Print the evaluation metrics for the decision tree model\n",
        "print(\"Decision Tree Model Evaluation:\")\n",
        "print(\"Accuracy: {:.4f}\".format(acc_dt))\n",
        "print(\"Precision: {:.4f}\".format(prec_dt))\n",
        "print(\"Recall: {:.4f}\".format(rec_dt))\n",
        "print(\"F1-Score: {:.4f}\".format(f1_dt))\n"
      ],
      "metadata": {
        "colab": {
          "base_uri": "https://localhost:8080/"
        },
        "id": "R_ZbkMBajI5t",
        "outputId": "24805728-4425-46a4-d0cb-d7721d7e01f4"
      },
      "execution_count": 103,
      "outputs": [
        {
          "output_type": "stream",
          "name": "stdout",
          "text": [
            "Decision Tree Model Evaluation:\n",
            "Accuracy: 0.8908\n",
            "Precision: 0.9079\n",
            "Recall: 0.8220\n",
            "F1-Score: 0.8628\n"
          ]
        }
      ]
    },
    {
      "cell_type": "code",
      "source": [
        "from sklearn.metrics import confusion_matrix\n",
        "import seaborn as sns\n",
        "\n",
        "# Get the confusion matrix for KNN model\n",
        "cm = confusion_matrix(y_test, knn.predict(X_test))\n",
        "\n",
        "# Plot the confusion matrix as a heatmap using Seaborn\n",
        "sns.heatmap(cm, annot=True, cmap='Blues')\n",
        "plt.show()\n"
      ],
      "metadata": {
        "colab": {
          "base_uri": "https://localhost:8080/",
          "height": 265
        },
        "id": "eJcpBMWGjdT-",
        "outputId": "bb904b44-e0ae-4c64-bd51-d7da03001182"
      },
      "execution_count": 104,
      "outputs": [
        {
          "output_type": "display_data",
          "data": {
            "text/plain": [
              "<Figure size 432x288 with 2 Axes>"
            ],
            "image/png": "[encoded data removed]"
          },
          "metadata": {
            "needs_background": "light"
          }
        }
      ]
    },
    {
      "cell_type": "code",
      "source": [
        "#Get the confusion matrix for KNN model\n",
        "cm = confusion_matrix(y_test, tree.predict(X_test))\n",
        "\n",
        "# Plot the confusion matrix as a heatmap using Seaborn\n",
        "sns.heatmap(cm, annot=True, cmap='Blues')\n",
        "plt.show()\n"
      ],
      "metadata": {
        "colab": {
          "base_uri": "https://localhost:8080/",
          "height": 265
        },
        "id": "PUjg270kjfRa",
        "outputId": "3447521b-d017-476c-e13c-7a030181d75d"
      },
      "execution_count": 105,
      "outputs": [
        {
          "output_type": "display_data",
          "data": {
            "text/plain": [
              "<Figure size 432x288 with 2 Axes>"
            ],
            "image/png": "[encoded data removed]"
          },
          "metadata": {
            "needs_background": "light"
          }
        }
      ]
    },
    {
      "cell_type": "code",
      "source": [
        "# Import the classification_report function from sklearn.metrics\n",
        "from sklearn.metrics import classification_report\n",
        "\n",
        "# Make predictions on the test set using the decision tree model\n",
        "y_pred = tree.predict(X_test)\n",
        "\n",
        "# Print the classification report for the predictions using the true labels\n",
        "print(classification_report(y_test, y_pred))\n"
      ],
      "metadata": {
        "colab": {
          "base_uri": "https://localhost:8080/"
        },
        "id": "SjUh5pj13Pol",
        "outputId": "c53f9d01-b0ea-44cc-f495-e9169d607cee"
      },
      "execution_count": 106,
      "outputs": [
        {
          "output_type": "stream",
          "name": "stdout",
          "text": [
            "              precision    recall  f1-score   support\n",
            "\n",
            "           0       0.88      0.94      0.91       368\n",
            "           1       0.91      0.82      0.86       264\n",
            "\n",
            "    accuracy                           0.89       632\n",
            "   macro avg       0.89      0.88      0.89       632\n",
            "weighted avg       0.89      0.89      0.89       632\n",
            "\n"
          ]
        }
      ]
    },
    {
      "cell_type": "code",
      "source": [
        "from sklearn.ensemble import RandomForestClassifier\n",
        "from sklearn.model_selection import GridSearchCV\n",
        "\n",
        "# Define the hyperparameter grid\n",
        "param_grid = {\n",
        "    'n_estimators': [50, 100, 150],\n",
        "    'max_depth': [None, 10, 20],\n",
        "    'min_samples_split': [2, 4, 6],\n",
        "    'min_samples_leaf': [1, 2, 4]\n",
        "}\n",
        "\n",
        "# Create a random forest classifier\n",
        "rf = RandomForestClassifier()\n",
        "\n",
        "# Use grid search to find the best hyperparameters\n",
        "grid_search = GridSearchCV(rf, param_grid=param_grid, cv=5, n_jobs=-1)\n",
        "grid_search.fit(X_train, y_train)\n",
        "\n",
        "# Print the best hyperparameters\n",
        "print(\"Best hyperparameters: \", grid_search.best_params_)\n"
      ],
      "metadata": {
        "colab": {
          "base_uri": "https://localhost:8080/"
        },
        "id": "QDVxGRM53i-2",
        "outputId": "d59bfe09-3497-4f36-ae9e-9091533551f4"
      },
      "execution_count": 107,
      "outputs": [
        {
          "output_type": "stream",
          "name": "stdout",
          "text": [
            "Best hyperparameters:  {'max_depth': None, 'min_samples_leaf': 1, 'min_samples_split': 4, 'n_estimators': 100}\n"
          ]
        }
      ]
    },
    {
      "cell_type": "code",
      "source": [
        "# Use the trained decision tree model to make predictions on the validation set\n",
        "y_pred = tree.predict(X_val)\n",
        "\n",
        "# Calculate the evaluation metrics\n",
        "accuracy = accuracy_score(y_val, y_pred)\n",
        "precision = precision_score(y_val, y_pred, average='weighted')\n",
        "recall = recall_score(y_val, y_pred, average='weighted')\n",
        "f1 = f1_score(y_val, y_pred, average='weighted')\n",
        "\n",
        "# Print the evaluation metrics\n",
        "print('Accuracy: {:.2f}'.format(accuracy))\n",
        "print('Precision: {:.2f}'.format(precision))\n",
        "print('Recall: {:.2f}'.format(recall))\n",
        "print('F1 score: {:.2f}'.format(f1))\n"
      ],
      "metadata": {
        "colab": {
          "base_uri": "https://localhost:8080/"
        },
        "id": "f-7o6VWR985o",
        "outputId": "3847ff43-6ecc-4655-dfda-a48beaa2752f"
      },
      "execution_count": 108,
      "outputs": [
        {
          "output_type": "stream",
          "name": "stdout",
          "text": [
            "Accuracy: 0.90\n",
            "Precision: 0.90\n",
            "Recall: 0.90\n",
            "F1 score: 0.90\n"
          ]
        }
      ]
    },
    {
      "cell_type": "code",
      "source": [
        "# Use the trained knn model to make predictions on the validation set\n",
        "y_pred = knn.predict(X_val)\n",
        "\n",
        "# Calculate the evaluation metrics\n",
        "accuracy = accuracy_score(y_val, y_pred)\n",
        "precision = precision_score(y_val, y_pred, average='weighted')\n",
        "recall = recall_score(y_val, y_pred, average='weighted')\n",
        "f1 = f1_score(y_val, y_pred, average='weighted')\n",
        "\n",
        "# Print the evaluation metrics\n",
        "print('Accuracy: {:.2f}'.format(accuracy))\n",
        "print('Precision: {:.2f}'.format(precision))\n",
        "print('Recall: {:.2f}'.format(recall))\n",
        "print('F1 score: {:.2f}'.format(f1))\n"
      ],
      "metadata": {
        "colab": {
          "base_uri": "https://localhost:8080/"
        },
        "id": "4OLEG-gI_XBF",
        "outputId": "0681a8d8-9665-4f51-d704-e105959aaf70"
      },
      "execution_count": 109,
      "outputs": [
        {
          "output_type": "stream",
          "name": "stdout",
          "text": [
            "Accuracy: 0.79\n",
            "Precision: 0.79\n",
            "Recall: 0.79\n",
            "F1 score: 0.79\n"
          ]
        }
      ]
    },
    {
      "cell_type": "code",
      "source": [],
      "metadata": {
        "id": "e3ONtd47BwIz"
      },
      "execution_count": 109,
      "outputs": []
    }
  ]
}
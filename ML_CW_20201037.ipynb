{
  "nbformat": 4,
  "nbformat_minor": 0,
  "metadata": {
    "colab": {
      "provenance": [],
      "authorship_tag": "ABX9TyOikjyA1gT7b3f4bYLtVNZc",
      "include_colab_link": true
    },
    "kernelspec": {
      "name": "python3",
      "display_name": "Python 3"
    },
    "language_info": {
      "name": "python"
    }
  },
  "cells": [
    {
      "cell_type": "markdown",
      "metadata": {
        "id": "view-in-github",
        "colab_type": "text"
      },
      "source": [
        "<a href=\"https://colab.research.google.com/github/D3WYAN/ML_CW_20201037/blob/main/ML_CW_20201037.ipynb\" target=\"_parent\"><img src=\"https://colab.research.google.com/assets/colab-badge.svg\" alt=\"Open In Colab\"/></a>"
      ]
    },
    {
      "cell_type": "code",
      "execution_count": 14,
      "metadata": {
        "id": "8UuA5DkdYcPv"
      },
      "outputs": [],
      "source": [
        "import pandas as pd\n",
        "\n",
        "# Load the CSV file into a pandas DataFrame\n",
        "data = pd.read_csv(\"/content/spambase.data.csv\", header=None)\n",
        "\n",
        "# Assign column names to the DataFrame\n",
        "column_names = ['word_freq_make', 'word_freq_address', 'word_freq_all', 'word_freq_3d', 'word_freq_our', 'word_freq_over', 'word_freq_remove', 'word_freq_internet', 'word_freq_order', 'word_freq_mail', 'word_freq_receive', 'word_freq_will', 'word_freq_people', 'word_freq_report', 'word_freq_addresses', 'word_freq_free', 'word_freq_business', 'word_freq_email', 'word_freq_you', 'word_freq_credit', 'word_freq_your', 'word_freq_font', 'word_freq_000', 'word_freq_money', 'word_freq_hp', 'word_freq_hpl', 'word_freq_george', 'word_freq_650', 'word_freq_lab', 'word_freq_labs', 'word_freq_telnet', 'word_freq_857', 'word_freq_data', 'word_freq_415', 'word_freq_85', 'word_freq_technology', 'word_freq_1999', 'word_freq_parts', 'word_freq_pm', 'word_freq_direct', 'word_freq_cs', 'word_freq_meeting', 'word_freq_original', 'word_freq_project', 'word_freq_re', 'word_freq_edu', 'word_freq_table', 'word_freq_conference', 'char_freq_;', 'char_freq_(', 'char_freq_[', 'char_freq_!', 'char_freq_$', 'char_freq_#', 'capital_run_length_average', 'capital_run_length_longest', 'capital_run_length_total', 'spam']\n",
        "data.columns = column_names\n"
      ]
    },
    {
      "cell_type": "code",
      "source": [
        "print(data.isnull().sum(),\"\\n==================\")\n",
        "data = data.dropna()\n",
        "print(data.duplicated().sum())\n",
        "data = data.drop_duplicates()"
      ],
      "metadata": {
        "colab": {
          "base_uri": "https://localhost:8080/"
        },
        "id": "ySDx7gvDYh94",
        "outputId": "523a103d-5351-4dec-877a-bd3204cbe07f"
      },
      "execution_count": 15,
      "outputs": [
        {
          "output_type": "stream",
          "name": "stdout",
          "text": [
            "word_freq_make                0\n",
            "word_freq_address             0\n",
            "word_freq_all                 0\n",
            "word_freq_3d                  0\n",
            "word_freq_our                 0\n",
            "word_freq_over                0\n",
            "word_freq_remove              0\n",
            "word_freq_internet            0\n",
            "word_freq_order               0\n",
            "word_freq_mail                0\n",
            "word_freq_receive             0\n",
            "word_freq_will                0\n",
            "word_freq_people              0\n",
            "word_freq_report              0\n",
            "word_freq_addresses           0\n",
            "word_freq_free                0\n",
            "word_freq_business            0\n",
            "word_freq_email               0\n",
            "word_freq_you                 0\n",
            "word_freq_credit              0\n",
            "word_freq_your                0\n",
            "word_freq_font                0\n",
            "word_freq_000                 0\n",
            "word_freq_money               0\n",
            "word_freq_hp                  0\n",
            "word_freq_hpl                 0\n",
            "word_freq_george              0\n",
            "word_freq_650                 0\n",
            "word_freq_lab                 0\n",
            "word_freq_labs                0\n",
            "word_freq_telnet              0\n",
            "word_freq_857                 0\n",
            "word_freq_data                0\n",
            "word_freq_415                 0\n",
            "word_freq_85                  0\n",
            "word_freq_technology          0\n",
            "word_freq_1999                0\n",
            "word_freq_parts               0\n",
            "word_freq_pm                  0\n",
            "word_freq_direct              0\n",
            "word_freq_cs                  0\n",
            "word_freq_meeting             0\n",
            "word_freq_original            0\n",
            "word_freq_project             0\n",
            "word_freq_re                  0\n",
            "word_freq_edu                 0\n",
            "word_freq_table               0\n",
            "word_freq_conference          0\n",
            "char_freq_;                   0\n",
            "char_freq_(                   0\n",
            "char_freq_[                   0\n",
            "char_freq_!                   0\n",
            "char_freq_$                   0\n",
            "char_freq_#                   0\n",
            "capital_run_length_average    0\n",
            "capital_run_length_longest    0\n",
            "capital_run_length_total      0\n",
            "spam                          0\n",
            "dtype: int64 \n",
            "==================\n",
            "391\n"
          ]
        }
      ]
    },
    {
      "cell_type": "code",
      "source": [
        "# Print basic statistics about the DataFrame\n",
        "print(data.describe())\n"
      ],
      "metadata": {
        "colab": {
          "base_uri": "https://localhost:8080/"
        },
        "id": "Kmv5jZolY-MB",
        "outputId": "f8d9a04b-35bc-4e7d-8b2f-c09f5acb6631"
      },
      "execution_count": 16,
      "outputs": [
        {
          "output_type": "stream",
          "name": "stdout",
          "text": [
            "       word_freq_make  word_freq_address  word_freq_all  word_freq_3d  \\\n",
            "count     4210.000000        4210.000000    4210.000000   4210.000000   \n",
            "mean         0.104366           0.112656       0.291473      0.063078   \n",
            "std          0.300005           0.454260       0.515719      1.352487   \n",
            "min          0.000000           0.000000       0.000000      0.000000   \n",
            "25%          0.000000           0.000000       0.000000      0.000000   \n",
            "50%          0.000000           0.000000       0.000000      0.000000   \n",
            "75%          0.000000           0.000000       0.440000      0.000000   \n",
            "max          4.540000          14.280000       5.100000     42.810000   \n",
            "\n",
            "       word_freq_our  word_freq_over  word_freq_remove  word_freq_internet  \\\n",
            "count    4210.000000     4210.000000       4210.000000         4210.000000   \n",
            "mean        0.325321        0.096656          0.117475            0.108000   \n",
            "std         0.687805        0.276030          0.397284            0.410282   \n",
            "min         0.000000        0.000000          0.000000            0.000000   \n",
            "25%         0.000000        0.000000          0.000000            0.000000   \n",
            "50%         0.000000        0.000000          0.000000            0.000000   \n",
            "75%         0.410000        0.000000          0.000000            0.000000   \n",
            "max        10.000000        5.880000          7.270000           11.110000   \n",
            "\n",
            "       word_freq_order  word_freq_mail  ...  char_freq_;  char_freq_(  \\\n",
            "count      4210.000000     4210.000000  ...  4210.000000  4210.000000   \n",
            "mean          0.091860        0.248420  ...     0.040403     0.144048   \n",
            "std           0.282144        0.656638  ...     0.252533     0.274256   \n",
            "min           0.000000        0.000000  ...     0.000000     0.000000   \n",
            "25%           0.000000        0.000000  ...     0.000000     0.000000   \n",
            "50%           0.000000        0.000000  ...     0.000000     0.073000   \n",
            "75%           0.000000        0.190000  ...     0.000000     0.194000   \n",
            "max           5.260000       18.180000  ...     4.385000     9.752000   \n",
            "\n",
            "       char_freq_[  char_freq_!  char_freq_$  char_freq_#  \\\n",
            "count  4210.000000  4210.000000  4210.000000  4210.000000   \n",
            "mean      0.017376     0.281136     0.076057     0.045798   \n",
            "std       0.105731     0.843321     0.239708     0.435925   \n",
            "min       0.000000     0.000000     0.000000     0.000000   \n",
            "25%       0.000000     0.000000     0.000000     0.000000   \n",
            "50%       0.000000     0.016000     0.000000     0.000000   \n",
            "75%       0.000000     0.331000     0.053000     0.000000   \n",
            "max       4.081000    32.478000     6.003000    19.829000   \n",
            "\n",
            "       capital_run_length_average  capital_run_length_longest  \\\n",
            "count                 4210.000000                 4210.000000   \n",
            "mean                     5.383896                   52.139905   \n",
            "std                     33.147358                  199.582168   \n",
            "min                      1.000000                    1.000000   \n",
            "25%                      1.627500                    7.000000   \n",
            "50%                      2.297000                   15.000000   \n",
            "75%                      3.706750                   44.000000   \n",
            "max                   1102.500000                 9989.000000   \n",
            "\n",
            "       capital_run_length_total         spam  \n",
            "count               4210.000000  4210.000000  \n",
            "mean                 291.181948     0.398812  \n",
            "std                  618.654838     0.489712  \n",
            "min                    1.000000     0.000000  \n",
            "25%                   40.000000     0.000000  \n",
            "50%                  101.500000     0.000000  \n",
            "75%                  273.750000     1.000000  \n",
            "max                15841.000000     1.000000  \n",
            "\n",
            "[8 rows x 58 columns]\n"
          ]
        }
      ]
    },
    {
      "cell_type": "code",
      "source": [
        "#separates the target variable 'spam' from the rest of the features in the dataset.\n",
        "X = data.drop('spam', axis=1)\n",
        "y = data['spam']\n"
      ],
      "metadata": {
        "id": "2-5kAHFOZBD3"
      },
      "execution_count": 17,
      "outputs": []
    },
    {
      "cell_type": "code",
      "source": [
        "from sklearn.model_selection import train_test_split\n",
        "\n",
        "#Splitting the data into training and testing sets and setting a random seed for reproducibility\n",
        "X_train, X_test, y_train, y_test = train_test_split(X, y, test_size=0.3, random_state=42)\n"
      ],
      "metadata": {
        "id": "pYqwGX5zZEac"
      },
      "execution_count": 18,
      "outputs": []
    }
  ]
}